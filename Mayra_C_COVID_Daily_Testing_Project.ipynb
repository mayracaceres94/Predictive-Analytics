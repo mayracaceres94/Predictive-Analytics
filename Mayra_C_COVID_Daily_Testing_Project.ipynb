{
  "nbformat": 4,
  "nbformat_minor": 0,
  "metadata": {
    "colab": {
      "name": "Mayra C. COVID Daily Testing Project",
      "provenance": [],
      "authorship_tag": "ABX9TyMvPWuW8HEWn3PmyCHCujKa",
      "include_colab_link": true
    },
    "kernelspec": {
      "name": "python3",
      "display_name": "Python 3"
    },
    "language_info": {
      "name": "python"
    }
  },
  "cells": [
    {
      "cell_type": "markdown",
      "metadata": {
        "id": "view-in-github",
        "colab_type": "text"
      },
      "source": [
        "<a href=\"https://colab.research.google.com/github/mayracaceres94/Predictive-Analytics/blob/main/Mayra_C_COVID_Daily_Testing_Project.ipynb\" target=\"_parent\"><img src=\"https://colab.research.google.com/assets/colab-badge.svg\" alt=\"Open In Colab\"/></a>"
      ]
    },
    {
      "cell_type": "markdown",
      "metadata": {
        "id": "hPVEJdP24LHy"
      },
      "source": [
        "\n",
        "\n",
        "Environment Set Up"
      ]
    },
    {
      "cell_type": "code",
      "metadata": {
        "id": "rj50mZ8V32U0"
      },
      "source": [
        "import pandas as pd\n",
        "import numpy as np\n",
        "import seaborn as sns\n",
        "import matplotlib.pyplot as plt"
      ],
      "execution_count": null,
      "outputs": []
    },
    {
      "cell_type": "markdown",
      "metadata": {
        "id": "_lDqtLSp4pEp"
      },
      "source": [
        "Data Acquisition "
      ]
    },
    {
      "cell_type": "code",
      "metadata": {
        "id": "PGuDIMGZ4t1Q"
      },
      "source": [
        "df = pd.read_csv('https://raw.githubusercontent.com/niteen11/data301_predictive_analytics_machine_learning/main/data/COVID-19_Daily_Testing.csv')"
      ],
      "execution_count": null,
      "outputs": []
    },
    {
      "cell_type": "code",
      "metadata": {
        "colab": {
          "base_uri": "https://localhost:8080/",
          "height": 326
        },
        "id": "juhgYpXn47m8",
        "outputId": "201075ce-6f23-45b6-86fb-537ebe9467dc"
      },
      "source": [
        "df.head()"
      ],
      "execution_count": null,
      "outputs": [
        {
          "output_type": "execute_result",
          "data": {
            "text/html": [
              "<div>\n",
              "<style scoped>\n",
              "    .dataframe tbody tr th:only-of-type {\n",
              "        vertical-align: middle;\n",
              "    }\n",
              "\n",
              "    .dataframe tbody tr th {\n",
              "        vertical-align: top;\n",
              "    }\n",
              "\n",
              "    .dataframe thead th {\n",
              "        text-align: right;\n",
              "    }\n",
              "</style>\n",
              "<table border=\"1\" class=\"dataframe\">\n",
              "  <thead>\n",
              "    <tr style=\"text-align: right;\">\n",
              "      <th></th>\n",
              "      <th>Date</th>\n",
              "      <th>Day</th>\n",
              "      <th>Tests</th>\n",
              "      <th>Cases</th>\n",
              "      <th>People Not-Positive - Total</th>\n",
              "      <th>People Tested - Age 0-17</th>\n",
              "      <th>People Tested - Age 18-29</th>\n",
              "      <th>People Tested - Age 30-39</th>\n",
              "      <th>People Tested - Age 40-49</th>\n",
              "      <th>People Tested - Age 50-59</th>\n",
              "      <th>People Tested - Age 60-69</th>\n",
              "      <th>People Tested - Age 70-79</th>\n",
              "      <th>People Tested - Age 80+</th>\n",
              "      <th>People Tested - Age Unknown</th>\n",
              "      <th>People Tested - Female</th>\n",
              "      <th>People Tested - Male</th>\n",
              "      <th>People Tested - Gender Unknown</th>\n",
              "      <th>People Tested - Latinx</th>\n",
              "      <th>People Tested - Asian Non-Latinx</th>\n",
              "      <th>People Tested - Black Non-Latinx</th>\n",
              "      <th>People Tested - White Non-Latinx</th>\n",
              "      <th>People Tested - Other Race Non-Latinx</th>\n",
              "      <th>People Tested - Unknown Race/Ethnicity</th>\n",
              "      <th>People Positive - Age 0-17</th>\n",
              "      <th>People Positive - Age 18-29</th>\n",
              "      <th>People Positive - Age 30-30</th>\n",
              "      <th>People Positive - Age 40-49</th>\n",
              "      <th>People Positive - Age 50-59</th>\n",
              "      <th>People Positive - Age 60-69</th>\n",
              "      <th>People Positive - Age 70-79</th>\n",
              "      <th>People Positive - Age 80+</th>\n",
              "      <th>People Positive - Age Unknown</th>\n",
              "      <th>People Positive - Female</th>\n",
              "      <th>People Positive - Male</th>\n",
              "      <th>People Positive - Gender Unknown</th>\n",
              "      <th>People Positive - Latinx</th>\n",
              "      <th>People Positive - Asian Non-Latinx</th>\n",
              "      <th>People Positive - Black Non-Latinx</th>\n",
              "      <th>People Positive - White Non-Latinx</th>\n",
              "      <th>People Positive - Other Race Non-Latinx</th>\n",
              "      <th>People Positive - Unknown Race/Ethnicity</th>\n",
              "      <th>People Not-Positive - Age 0-17</th>\n",
              "      <th>People Not-Positive - Age 18-29</th>\n",
              "      <th>People Not-Positive - Age 30-39</th>\n",
              "      <th>People Not-Positive - Age 40-49</th>\n",
              "      <th>People Not-Positive - Age 50-59</th>\n",
              "      <th>People Not-Positive - Age 60-69</th>\n",
              "      <th>People Not-Positive - Age 70-79</th>\n",
              "      <th>People Not-Positive - Age 80+</th>\n",
              "      <th>People Not-Positive - Age Unknown</th>\n",
              "      <th>People Not-Positive - Female</th>\n",
              "      <th>People Not-Positive - Male</th>\n",
              "      <th>People Not-Positive - Gender Unknown</th>\n",
              "      <th>People Not-Positive - Latinx</th>\n",
              "      <th>People Not-Positive - Asian Non-Latinx</th>\n",
              "      <th>People Not-Positive - Black Non-Latinx</th>\n",
              "      <th>People Not-Positive - White Non-Latinx</th>\n",
              "      <th>People Not-Positive - Other Race Non-Latinx</th>\n",
              "      <th>People Not-Positive - Unknown Race/Ethnicity</th>\n",
              "    </tr>\n",
              "  </thead>\n",
              "  <tbody>\n",
              "    <tr>\n",
              "      <th>0</th>\n",
              "      <td>03-01-20</td>\n",
              "      <td>Sunday</td>\n",
              "      <td>1</td>\n",
              "      <td>0</td>\n",
              "      <td>1</td>\n",
              "      <td>0</td>\n",
              "      <td>0</td>\n",
              "      <td>1</td>\n",
              "      <td>0</td>\n",
              "      <td>0</td>\n",
              "      <td>0</td>\n",
              "      <td>0</td>\n",
              "      <td>0</td>\n",
              "      <td>0</td>\n",
              "      <td>0</td>\n",
              "      <td>1</td>\n",
              "      <td>0</td>\n",
              "      <td>0</td>\n",
              "      <td>0</td>\n",
              "      <td>0</td>\n",
              "      <td>1</td>\n",
              "      <td>0</td>\n",
              "      <td>0</td>\n",
              "      <td>0</td>\n",
              "      <td>0</td>\n",
              "      <td>0</td>\n",
              "      <td>0</td>\n",
              "      <td>0</td>\n",
              "      <td>0</td>\n",
              "      <td>0</td>\n",
              "      <td>0</td>\n",
              "      <td>0</td>\n",
              "      <td>0</td>\n",
              "      <td>0</td>\n",
              "      <td>0</td>\n",
              "      <td>0</td>\n",
              "      <td>0</td>\n",
              "      <td>0</td>\n",
              "      <td>0</td>\n",
              "      <td>0</td>\n",
              "      <td>0</td>\n",
              "      <td>0</td>\n",
              "      <td>0</td>\n",
              "      <td>1</td>\n",
              "      <td>0</td>\n",
              "      <td>0</td>\n",
              "      <td>0</td>\n",
              "      <td>0</td>\n",
              "      <td>0</td>\n",
              "      <td>0</td>\n",
              "      <td>0</td>\n",
              "      <td>1</td>\n",
              "      <td>0</td>\n",
              "      <td>0</td>\n",
              "      <td>0</td>\n",
              "      <td>0</td>\n",
              "      <td>1</td>\n",
              "      <td>0</td>\n",
              "      <td>0</td>\n",
              "    </tr>\n",
              "    <tr>\n",
              "      <th>1</th>\n",
              "      <td>05-02-20</td>\n",
              "      <td>Saturday</td>\n",
              "      <td>2,431</td>\n",
              "      <td>705</td>\n",
              "      <td>1,726</td>\n",
              "      <td>129</td>\n",
              "      <td>470</td>\n",
              "      <td>458</td>\n",
              "      <td>458</td>\n",
              "      <td>412</td>\n",
              "      <td>281</td>\n",
              "      <td>128</td>\n",
              "      <td>94</td>\n",
              "      <td>1</td>\n",
              "      <td>1,238</td>\n",
              "      <td>1,158</td>\n",
              "      <td>35</td>\n",
              "      <td>569</td>\n",
              "      <td>39</td>\n",
              "      <td>376</td>\n",
              "      <td>276</td>\n",
              "      <td>73</td>\n",
              "      <td>1,098</td>\n",
              "      <td>24</td>\n",
              "      <td>141</td>\n",
              "      <td>120</td>\n",
              "      <td>152</td>\n",
              "      <td>137</td>\n",
              "      <td>76</td>\n",
              "      <td>39</td>\n",
              "      <td>16</td>\n",
              "      <td>0</td>\n",
              "      <td>340</td>\n",
              "      <td>361</td>\n",
              "      <td>4</td>\n",
              "      <td>343</td>\n",
              "      <td>9</td>\n",
              "      <td>103</td>\n",
              "      <td>51</td>\n",
              "      <td>22</td>\n",
              "      <td>177</td>\n",
              "      <td>105</td>\n",
              "      <td>329</td>\n",
              "      <td>338</td>\n",
              "      <td>306</td>\n",
              "      <td>275</td>\n",
              "      <td>205</td>\n",
              "      <td>89</td>\n",
              "      <td>78</td>\n",
              "      <td>1</td>\n",
              "      <td>898</td>\n",
              "      <td>797</td>\n",
              "      <td>31</td>\n",
              "      <td>226</td>\n",
              "      <td>30</td>\n",
              "      <td>273</td>\n",
              "      <td>225</td>\n",
              "      <td>51</td>\n",
              "      <td>921</td>\n",
              "    </tr>\n",
              "    <tr>\n",
              "      <th>2</th>\n",
              "      <td>05/14/2020</td>\n",
              "      <td>Thursday</td>\n",
              "      <td>4,098</td>\n",
              "      <td>772</td>\n",
              "      <td>3,326</td>\n",
              "      <td>260</td>\n",
              "      <td>805</td>\n",
              "      <td>833</td>\n",
              "      <td>685</td>\n",
              "      <td>604</td>\n",
              "      <td>471</td>\n",
              "      <td>253</td>\n",
              "      <td>171</td>\n",
              "      <td>16</td>\n",
              "      <td>2,049</td>\n",
              "      <td>1,786</td>\n",
              "      <td>263</td>\n",
              "      <td>848</td>\n",
              "      <td>55</td>\n",
              "      <td>581</td>\n",
              "      <td>510</td>\n",
              "      <td>144</td>\n",
              "      <td>1,960</td>\n",
              "      <td>48</td>\n",
              "      <td>167</td>\n",
              "      <td>153</td>\n",
              "      <td>131</td>\n",
              "      <td>107</td>\n",
              "      <td>95</td>\n",
              "      <td>42</td>\n",
              "      <td>29</td>\n",
              "      <td>0</td>\n",
              "      <td>395</td>\n",
              "      <td>362</td>\n",
              "      <td>15</td>\n",
              "      <td>319</td>\n",
              "      <td>12</td>\n",
              "      <td>151</td>\n",
              "      <td>68</td>\n",
              "      <td>35</td>\n",
              "      <td>187</td>\n",
              "      <td>212</td>\n",
              "      <td>638</td>\n",
              "      <td>680</td>\n",
              "      <td>554</td>\n",
              "      <td>497</td>\n",
              "      <td>376</td>\n",
              "      <td>211</td>\n",
              "      <td>142</td>\n",
              "      <td>16</td>\n",
              "      <td>1,654</td>\n",
              "      <td>1,424</td>\n",
              "      <td>248</td>\n",
              "      <td>529</td>\n",
              "      <td>43</td>\n",
              "      <td>430</td>\n",
              "      <td>442</td>\n",
              "      <td>109</td>\n",
              "      <td>1,773</td>\n",
              "    </tr>\n",
              "    <tr>\n",
              "      <th>3</th>\n",
              "      <td>03-05-20</td>\n",
              "      <td>Thursday</td>\n",
              "      <td>17</td>\n",
              "      <td>1</td>\n",
              "      <td>16</td>\n",
              "      <td>4</td>\n",
              "      <td>2</td>\n",
              "      <td>0</td>\n",
              "      <td>4</td>\n",
              "      <td>3</td>\n",
              "      <td>2</td>\n",
              "      <td>0</td>\n",
              "      <td>2</td>\n",
              "      <td>0</td>\n",
              "      <td>8</td>\n",
              "      <td>9</td>\n",
              "      <td>0</td>\n",
              "      <td>2</td>\n",
              "      <td>0</td>\n",
              "      <td>5</td>\n",
              "      <td>2</td>\n",
              "      <td>1</td>\n",
              "      <td>7</td>\n",
              "      <td>0</td>\n",
              "      <td>0</td>\n",
              "      <td>0</td>\n",
              "      <td>0</td>\n",
              "      <td>1</td>\n",
              "      <td>0</td>\n",
              "      <td>0</td>\n",
              "      <td>0</td>\n",
              "      <td>0</td>\n",
              "      <td>1</td>\n",
              "      <td>0</td>\n",
              "      <td>0</td>\n",
              "      <td>0</td>\n",
              "      <td>0</td>\n",
              "      <td>1</td>\n",
              "      <td>0</td>\n",
              "      <td>0</td>\n",
              "      <td>0</td>\n",
              "      <td>4</td>\n",
              "      <td>2</td>\n",
              "      <td>0</td>\n",
              "      <td>4</td>\n",
              "      <td>2</td>\n",
              "      <td>2</td>\n",
              "      <td>0</td>\n",
              "      <td>2</td>\n",
              "      <td>0</td>\n",
              "      <td>7</td>\n",
              "      <td>9</td>\n",
              "      <td>0</td>\n",
              "      <td>2</td>\n",
              "      <td>0</td>\n",
              "      <td>4</td>\n",
              "      <td>2</td>\n",
              "      <td>1</td>\n",
              "      <td>7</td>\n",
              "    </tr>\n",
              "    <tr>\n",
              "      <th>4</th>\n",
              "      <td>03-06-20</td>\n",
              "      <td>Friday</td>\n",
              "      <td>18</td>\n",
              "      <td>3</td>\n",
              "      <td>15</td>\n",
              "      <td>1</td>\n",
              "      <td>5</td>\n",
              "      <td>1</td>\n",
              "      <td>3</td>\n",
              "      <td>3</td>\n",
              "      <td>2</td>\n",
              "      <td>2</td>\n",
              "      <td>0</td>\n",
              "      <td>1</td>\n",
              "      <td>8</td>\n",
              "      <td>10</td>\n",
              "      <td>0</td>\n",
              "      <td>2</td>\n",
              "      <td>0</td>\n",
              "      <td>1</td>\n",
              "      <td>5</td>\n",
              "      <td>1</td>\n",
              "      <td>9</td>\n",
              "      <td>0</td>\n",
              "      <td>0</td>\n",
              "      <td>0</td>\n",
              "      <td>2</td>\n",
              "      <td>0</td>\n",
              "      <td>1</td>\n",
              "      <td>0</td>\n",
              "      <td>0</td>\n",
              "      <td>0</td>\n",
              "      <td>0</td>\n",
              "      <td>3</td>\n",
              "      <td>0</td>\n",
              "      <td>0</td>\n",
              "      <td>0</td>\n",
              "      <td>0</td>\n",
              "      <td>3</td>\n",
              "      <td>0</td>\n",
              "      <td>0</td>\n",
              "      <td>1</td>\n",
              "      <td>5</td>\n",
              "      <td>1</td>\n",
              "      <td>1</td>\n",
              "      <td>3</td>\n",
              "      <td>1</td>\n",
              "      <td>2</td>\n",
              "      <td>0</td>\n",
              "      <td>1</td>\n",
              "      <td>8</td>\n",
              "      <td>7</td>\n",
              "      <td>0</td>\n",
              "      <td>2</td>\n",
              "      <td>0</td>\n",
              "      <td>1</td>\n",
              "      <td>2</td>\n",
              "      <td>1</td>\n",
              "      <td>9</td>\n",
              "    </tr>\n",
              "  </tbody>\n",
              "</table>\n",
              "</div>"
            ],
            "text/plain": [
              "         Date  ... People Not-Positive - Unknown Race/Ethnicity\n",
              "0    03-01-20  ...                                            0\n",
              "1    05-02-20  ...                                          921\n",
              "2  05/14/2020  ...                                        1,773\n",
              "3    03-05-20  ...                                            7\n",
              "4    03-06-20  ...                                            9\n",
              "\n",
              "[5 rows x 59 columns]"
            ]
          },
          "metadata": {},
          "execution_count": 3
        }
      ]
    },
    {
      "cell_type": "code",
      "metadata": {
        "colab": {
          "base_uri": "https://localhost:8080/"
        },
        "id": "6EkSKwUJ5S4Z",
        "outputId": "3305a2e1-f3b0-49c6-f79e-1d76e3e5afd8"
      },
      "source": [
        "df.shape"
      ],
      "execution_count": null,
      "outputs": [
        {
          "output_type": "execute_result",
          "data": {
            "text/plain": [
              "(89, 59)"
            ]
          },
          "metadata": {},
          "execution_count": 5
        }
      ]
    },
    {
      "cell_type": "code",
      "metadata": {
        "id": "wB1r1uHw6Sl9"
      },
      "source": [
        "df=df.replace(',',\"\", regex=True)"
      ],
      "execution_count": null,
      "outputs": []
    },
    {
      "cell_type": "code",
      "metadata": {
        "colab": {
          "base_uri": "https://localhost:8080/",
          "height": 326
        },
        "id": "Ny31cJ_n6j8_",
        "outputId": "321fbe95-132c-404f-96d0-311b7c119667"
      },
      "source": [
        "df.head()"
      ],
      "execution_count": null,
      "outputs": [
        {
          "output_type": "execute_result",
          "data": {
            "text/html": [
              "<div>\n",
              "<style scoped>\n",
              "    .dataframe tbody tr th:only-of-type {\n",
              "        vertical-align: middle;\n",
              "    }\n",
              "\n",
              "    .dataframe tbody tr th {\n",
              "        vertical-align: top;\n",
              "    }\n",
              "\n",
              "    .dataframe thead th {\n",
              "        text-align: right;\n",
              "    }\n",
              "</style>\n",
              "<table border=\"1\" class=\"dataframe\">\n",
              "  <thead>\n",
              "    <tr style=\"text-align: right;\">\n",
              "      <th></th>\n",
              "      <th>Date</th>\n",
              "      <th>Day</th>\n",
              "      <th>Tests</th>\n",
              "      <th>Cases</th>\n",
              "      <th>People Not-Positive - Total</th>\n",
              "      <th>People Tested - Age 0-17</th>\n",
              "      <th>People Tested - Age 18-29</th>\n",
              "      <th>People Tested - Age 30-39</th>\n",
              "      <th>People Tested - Age 40-49</th>\n",
              "      <th>People Tested - Age 50-59</th>\n",
              "      <th>People Tested - Age 60-69</th>\n",
              "      <th>People Tested - Age 70-79</th>\n",
              "      <th>People Tested - Age 80+</th>\n",
              "      <th>People Tested - Age Unknown</th>\n",
              "      <th>People Tested - Female</th>\n",
              "      <th>People Tested - Male</th>\n",
              "      <th>People Tested - Gender Unknown</th>\n",
              "      <th>People Tested - Latinx</th>\n",
              "      <th>People Tested - Asian Non-Latinx</th>\n",
              "      <th>People Tested - Black Non-Latinx</th>\n",
              "      <th>People Tested - White Non-Latinx</th>\n",
              "      <th>People Tested - Other Race Non-Latinx</th>\n",
              "      <th>People Tested - Unknown Race/Ethnicity</th>\n",
              "      <th>People Positive - Age 0-17</th>\n",
              "      <th>People Positive - Age 18-29</th>\n",
              "      <th>People Positive - Age 30-30</th>\n",
              "      <th>People Positive - Age 40-49</th>\n",
              "      <th>People Positive - Age 50-59</th>\n",
              "      <th>People Positive - Age 60-69</th>\n",
              "      <th>People Positive - Age 70-79</th>\n",
              "      <th>People Positive - Age 80+</th>\n",
              "      <th>People Positive - Age Unknown</th>\n",
              "      <th>People Positive - Female</th>\n",
              "      <th>People Positive - Male</th>\n",
              "      <th>People Positive - Gender Unknown</th>\n",
              "      <th>People Positive - Latinx</th>\n",
              "      <th>People Positive - Asian Non-Latinx</th>\n",
              "      <th>People Positive - Black Non-Latinx</th>\n",
              "      <th>People Positive - White Non-Latinx</th>\n",
              "      <th>People Positive - Other Race Non-Latinx</th>\n",
              "      <th>People Positive - Unknown Race/Ethnicity</th>\n",
              "      <th>People Not-Positive - Age 0-17</th>\n",
              "      <th>People Not-Positive - Age 18-29</th>\n",
              "      <th>People Not-Positive - Age 30-39</th>\n",
              "      <th>People Not-Positive - Age 40-49</th>\n",
              "      <th>People Not-Positive - Age 50-59</th>\n",
              "      <th>People Not-Positive - Age 60-69</th>\n",
              "      <th>People Not-Positive - Age 70-79</th>\n",
              "      <th>People Not-Positive - Age 80+</th>\n",
              "      <th>People Not-Positive - Age Unknown</th>\n",
              "      <th>People Not-Positive - Female</th>\n",
              "      <th>People Not-Positive - Male</th>\n",
              "      <th>People Not-Positive - Gender Unknown</th>\n",
              "      <th>People Not-Positive - Latinx</th>\n",
              "      <th>People Not-Positive - Asian Non-Latinx</th>\n",
              "      <th>People Not-Positive - Black Non-Latinx</th>\n",
              "      <th>People Not-Positive - White Non-Latinx</th>\n",
              "      <th>People Not-Positive - Other Race Non-Latinx</th>\n",
              "      <th>People Not-Positive - Unknown Race/Ethnicity</th>\n",
              "    </tr>\n",
              "  </thead>\n",
              "  <tbody>\n",
              "    <tr>\n",
              "      <th>0</th>\n",
              "      <td>03-01-20</td>\n",
              "      <td>Sunday</td>\n",
              "      <td>1</td>\n",
              "      <td>0</td>\n",
              "      <td>1</td>\n",
              "      <td>0</td>\n",
              "      <td>0</td>\n",
              "      <td>1</td>\n",
              "      <td>0</td>\n",
              "      <td>0</td>\n",
              "      <td>0</td>\n",
              "      <td>0</td>\n",
              "      <td>0</td>\n",
              "      <td>0</td>\n",
              "      <td>0</td>\n",
              "      <td>1</td>\n",
              "      <td>0</td>\n",
              "      <td>0</td>\n",
              "      <td>0</td>\n",
              "      <td>0</td>\n",
              "      <td>1</td>\n",
              "      <td>0</td>\n",
              "      <td>0</td>\n",
              "      <td>0</td>\n",
              "      <td>0</td>\n",
              "      <td>0</td>\n",
              "      <td>0</td>\n",
              "      <td>0</td>\n",
              "      <td>0</td>\n",
              "      <td>0</td>\n",
              "      <td>0</td>\n",
              "      <td>0</td>\n",
              "      <td>0</td>\n",
              "      <td>0</td>\n",
              "      <td>0</td>\n",
              "      <td>0</td>\n",
              "      <td>0</td>\n",
              "      <td>0</td>\n",
              "      <td>0</td>\n",
              "      <td>0</td>\n",
              "      <td>0</td>\n",
              "      <td>0</td>\n",
              "      <td>0</td>\n",
              "      <td>1</td>\n",
              "      <td>0</td>\n",
              "      <td>0</td>\n",
              "      <td>0</td>\n",
              "      <td>0</td>\n",
              "      <td>0</td>\n",
              "      <td>0</td>\n",
              "      <td>0</td>\n",
              "      <td>1</td>\n",
              "      <td>0</td>\n",
              "      <td>0</td>\n",
              "      <td>0</td>\n",
              "      <td>0</td>\n",
              "      <td>1</td>\n",
              "      <td>0</td>\n",
              "      <td>0</td>\n",
              "    </tr>\n",
              "    <tr>\n",
              "      <th>1</th>\n",
              "      <td>05-02-20</td>\n",
              "      <td>Saturday</td>\n",
              "      <td>2431</td>\n",
              "      <td>705</td>\n",
              "      <td>1726</td>\n",
              "      <td>129</td>\n",
              "      <td>470</td>\n",
              "      <td>458</td>\n",
              "      <td>458</td>\n",
              "      <td>412</td>\n",
              "      <td>281</td>\n",
              "      <td>128</td>\n",
              "      <td>94</td>\n",
              "      <td>1</td>\n",
              "      <td>1238</td>\n",
              "      <td>1158</td>\n",
              "      <td>35</td>\n",
              "      <td>569</td>\n",
              "      <td>39</td>\n",
              "      <td>376</td>\n",
              "      <td>276</td>\n",
              "      <td>73</td>\n",
              "      <td>1098</td>\n",
              "      <td>24</td>\n",
              "      <td>141</td>\n",
              "      <td>120</td>\n",
              "      <td>152</td>\n",
              "      <td>137</td>\n",
              "      <td>76</td>\n",
              "      <td>39</td>\n",
              "      <td>16</td>\n",
              "      <td>0</td>\n",
              "      <td>340</td>\n",
              "      <td>361</td>\n",
              "      <td>4</td>\n",
              "      <td>343</td>\n",
              "      <td>9</td>\n",
              "      <td>103</td>\n",
              "      <td>51</td>\n",
              "      <td>22</td>\n",
              "      <td>177</td>\n",
              "      <td>105</td>\n",
              "      <td>329</td>\n",
              "      <td>338</td>\n",
              "      <td>306</td>\n",
              "      <td>275</td>\n",
              "      <td>205</td>\n",
              "      <td>89</td>\n",
              "      <td>78</td>\n",
              "      <td>1</td>\n",
              "      <td>898</td>\n",
              "      <td>797</td>\n",
              "      <td>31</td>\n",
              "      <td>226</td>\n",
              "      <td>30</td>\n",
              "      <td>273</td>\n",
              "      <td>225</td>\n",
              "      <td>51</td>\n",
              "      <td>921</td>\n",
              "    </tr>\n",
              "    <tr>\n",
              "      <th>2</th>\n",
              "      <td>05/14/2020</td>\n",
              "      <td>Thursday</td>\n",
              "      <td>4098</td>\n",
              "      <td>772</td>\n",
              "      <td>3326</td>\n",
              "      <td>260</td>\n",
              "      <td>805</td>\n",
              "      <td>833</td>\n",
              "      <td>685</td>\n",
              "      <td>604</td>\n",
              "      <td>471</td>\n",
              "      <td>253</td>\n",
              "      <td>171</td>\n",
              "      <td>16</td>\n",
              "      <td>2049</td>\n",
              "      <td>1786</td>\n",
              "      <td>263</td>\n",
              "      <td>848</td>\n",
              "      <td>55</td>\n",
              "      <td>581</td>\n",
              "      <td>510</td>\n",
              "      <td>144</td>\n",
              "      <td>1960</td>\n",
              "      <td>48</td>\n",
              "      <td>167</td>\n",
              "      <td>153</td>\n",
              "      <td>131</td>\n",
              "      <td>107</td>\n",
              "      <td>95</td>\n",
              "      <td>42</td>\n",
              "      <td>29</td>\n",
              "      <td>0</td>\n",
              "      <td>395</td>\n",
              "      <td>362</td>\n",
              "      <td>15</td>\n",
              "      <td>319</td>\n",
              "      <td>12</td>\n",
              "      <td>151</td>\n",
              "      <td>68</td>\n",
              "      <td>35</td>\n",
              "      <td>187</td>\n",
              "      <td>212</td>\n",
              "      <td>638</td>\n",
              "      <td>680</td>\n",
              "      <td>554</td>\n",
              "      <td>497</td>\n",
              "      <td>376</td>\n",
              "      <td>211</td>\n",
              "      <td>142</td>\n",
              "      <td>16</td>\n",
              "      <td>1654</td>\n",
              "      <td>1424</td>\n",
              "      <td>248</td>\n",
              "      <td>529</td>\n",
              "      <td>43</td>\n",
              "      <td>430</td>\n",
              "      <td>442</td>\n",
              "      <td>109</td>\n",
              "      <td>1773</td>\n",
              "    </tr>\n",
              "    <tr>\n",
              "      <th>3</th>\n",
              "      <td>03-05-20</td>\n",
              "      <td>Thursday</td>\n",
              "      <td>17</td>\n",
              "      <td>1</td>\n",
              "      <td>16</td>\n",
              "      <td>4</td>\n",
              "      <td>2</td>\n",
              "      <td>0</td>\n",
              "      <td>4</td>\n",
              "      <td>3</td>\n",
              "      <td>2</td>\n",
              "      <td>0</td>\n",
              "      <td>2</td>\n",
              "      <td>0</td>\n",
              "      <td>8</td>\n",
              "      <td>9</td>\n",
              "      <td>0</td>\n",
              "      <td>2</td>\n",
              "      <td>0</td>\n",
              "      <td>5</td>\n",
              "      <td>2</td>\n",
              "      <td>1</td>\n",
              "      <td>7</td>\n",
              "      <td>0</td>\n",
              "      <td>0</td>\n",
              "      <td>0</td>\n",
              "      <td>0</td>\n",
              "      <td>1</td>\n",
              "      <td>0</td>\n",
              "      <td>0</td>\n",
              "      <td>0</td>\n",
              "      <td>0</td>\n",
              "      <td>1</td>\n",
              "      <td>0</td>\n",
              "      <td>0</td>\n",
              "      <td>0</td>\n",
              "      <td>0</td>\n",
              "      <td>1</td>\n",
              "      <td>0</td>\n",
              "      <td>0</td>\n",
              "      <td>0</td>\n",
              "      <td>4</td>\n",
              "      <td>2</td>\n",
              "      <td>0</td>\n",
              "      <td>4</td>\n",
              "      <td>2</td>\n",
              "      <td>2</td>\n",
              "      <td>0</td>\n",
              "      <td>2</td>\n",
              "      <td>0</td>\n",
              "      <td>7</td>\n",
              "      <td>9</td>\n",
              "      <td>0</td>\n",
              "      <td>2</td>\n",
              "      <td>0</td>\n",
              "      <td>4</td>\n",
              "      <td>2</td>\n",
              "      <td>1</td>\n",
              "      <td>7</td>\n",
              "    </tr>\n",
              "    <tr>\n",
              "      <th>4</th>\n",
              "      <td>03-06-20</td>\n",
              "      <td>Friday</td>\n",
              "      <td>18</td>\n",
              "      <td>3</td>\n",
              "      <td>15</td>\n",
              "      <td>1</td>\n",
              "      <td>5</td>\n",
              "      <td>1</td>\n",
              "      <td>3</td>\n",
              "      <td>3</td>\n",
              "      <td>2</td>\n",
              "      <td>2</td>\n",
              "      <td>0</td>\n",
              "      <td>1</td>\n",
              "      <td>8</td>\n",
              "      <td>10</td>\n",
              "      <td>0</td>\n",
              "      <td>2</td>\n",
              "      <td>0</td>\n",
              "      <td>1</td>\n",
              "      <td>5</td>\n",
              "      <td>1</td>\n",
              "      <td>9</td>\n",
              "      <td>0</td>\n",
              "      <td>0</td>\n",
              "      <td>0</td>\n",
              "      <td>2</td>\n",
              "      <td>0</td>\n",
              "      <td>1</td>\n",
              "      <td>0</td>\n",
              "      <td>0</td>\n",
              "      <td>0</td>\n",
              "      <td>0</td>\n",
              "      <td>3</td>\n",
              "      <td>0</td>\n",
              "      <td>0</td>\n",
              "      <td>0</td>\n",
              "      <td>0</td>\n",
              "      <td>3</td>\n",
              "      <td>0</td>\n",
              "      <td>0</td>\n",
              "      <td>1</td>\n",
              "      <td>5</td>\n",
              "      <td>1</td>\n",
              "      <td>1</td>\n",
              "      <td>3</td>\n",
              "      <td>1</td>\n",
              "      <td>2</td>\n",
              "      <td>0</td>\n",
              "      <td>1</td>\n",
              "      <td>8</td>\n",
              "      <td>7</td>\n",
              "      <td>0</td>\n",
              "      <td>2</td>\n",
              "      <td>0</td>\n",
              "      <td>1</td>\n",
              "      <td>2</td>\n",
              "      <td>1</td>\n",
              "      <td>9</td>\n",
              "    </tr>\n",
              "  </tbody>\n",
              "</table>\n",
              "</div>"
            ],
            "text/plain": [
              "         Date  ... People Not-Positive - Unknown Race/Ethnicity\n",
              "0    03-01-20  ...                                            0\n",
              "1    05-02-20  ...                                          921\n",
              "2  05/14/2020  ...                                         1773\n",
              "3    03-05-20  ...                                            7\n",
              "4    03-06-20  ...                                            9\n",
              "\n",
              "[5 rows x 59 columns]"
            ]
          },
          "metadata": {},
          "execution_count": 6
        }
      ]
    },
    {
      "cell_type": "code",
      "metadata": {
        "id": "ZJF200gK5g0L"
      },
      "source": [
        "df1=df[['Date','Day','Tests','People Not-Positive - Total', 'People Tested - Female', 'People Tested - Male',\t'People Tested - Gender Unknown', 'People Positive - Female','People Positive - Male',\t'People Positive - Gender Unknown', 'People Not-Positive - Female',\t'People Not-Positive - Male',\t'People Not-Positive - Gender Unknown' ]]"
      ],
      "execution_count": null,
      "outputs": []
    },
    {
      "cell_type": "code",
      "metadata": {
        "colab": {
          "base_uri": "https://localhost:8080/",
          "height": 272
        },
        "id": "sBm3UtryVK_K",
        "outputId": "debe424e-59fc-440b-b855-00bf0d4b2a88"
      },
      "source": [
        "df1.head()"
      ],
      "execution_count": null,
      "outputs": [
        {
          "output_type": "execute_result",
          "data": {
            "text/html": [
              "<div>\n",
              "<style scoped>\n",
              "    .dataframe tbody tr th:only-of-type {\n",
              "        vertical-align: middle;\n",
              "    }\n",
              "\n",
              "    .dataframe tbody tr th {\n",
              "        vertical-align: top;\n",
              "    }\n",
              "\n",
              "    .dataframe thead th {\n",
              "        text-align: right;\n",
              "    }\n",
              "</style>\n",
              "<table border=\"1\" class=\"dataframe\">\n",
              "  <thead>\n",
              "    <tr style=\"text-align: right;\">\n",
              "      <th></th>\n",
              "      <th>Date</th>\n",
              "      <th>Day</th>\n",
              "      <th>Tests</th>\n",
              "      <th>People Not-Positive - Total</th>\n",
              "      <th>People Tested - Female</th>\n",
              "      <th>People Tested - Male</th>\n",
              "      <th>People Tested - Gender Unknown</th>\n",
              "      <th>People Positive - Female</th>\n",
              "      <th>People Positive - Male</th>\n",
              "      <th>People Positive - Gender Unknown</th>\n",
              "      <th>People Not-Positive - Female</th>\n",
              "      <th>People Not-Positive - Male</th>\n",
              "      <th>People Not-Positive - Gender Unknown</th>\n",
              "    </tr>\n",
              "  </thead>\n",
              "  <tbody>\n",
              "    <tr>\n",
              "      <th>0</th>\n",
              "      <td>03-01-20</td>\n",
              "      <td>Sunday</td>\n",
              "      <td>1</td>\n",
              "      <td>1</td>\n",
              "      <td>0</td>\n",
              "      <td>1</td>\n",
              "      <td>0</td>\n",
              "      <td>0</td>\n",
              "      <td>0</td>\n",
              "      <td>0</td>\n",
              "      <td>0</td>\n",
              "      <td>1</td>\n",
              "      <td>0</td>\n",
              "    </tr>\n",
              "    <tr>\n",
              "      <th>1</th>\n",
              "      <td>05-02-20</td>\n",
              "      <td>Saturday</td>\n",
              "      <td>2431</td>\n",
              "      <td>1726</td>\n",
              "      <td>1238</td>\n",
              "      <td>1158</td>\n",
              "      <td>35</td>\n",
              "      <td>340</td>\n",
              "      <td>361</td>\n",
              "      <td>4</td>\n",
              "      <td>898</td>\n",
              "      <td>797</td>\n",
              "      <td>31</td>\n",
              "    </tr>\n",
              "    <tr>\n",
              "      <th>2</th>\n",
              "      <td>05/14/2020</td>\n",
              "      <td>Thursday</td>\n",
              "      <td>4098</td>\n",
              "      <td>3326</td>\n",
              "      <td>2049</td>\n",
              "      <td>1786</td>\n",
              "      <td>263</td>\n",
              "      <td>395</td>\n",
              "      <td>362</td>\n",
              "      <td>15</td>\n",
              "      <td>1654</td>\n",
              "      <td>1424</td>\n",
              "      <td>248</td>\n",
              "    </tr>\n",
              "    <tr>\n",
              "      <th>3</th>\n",
              "      <td>03-05-20</td>\n",
              "      <td>Thursday</td>\n",
              "      <td>17</td>\n",
              "      <td>16</td>\n",
              "      <td>8</td>\n",
              "      <td>9</td>\n",
              "      <td>0</td>\n",
              "      <td>1</td>\n",
              "      <td>0</td>\n",
              "      <td>0</td>\n",
              "      <td>7</td>\n",
              "      <td>9</td>\n",
              "      <td>0</td>\n",
              "    </tr>\n",
              "    <tr>\n",
              "      <th>4</th>\n",
              "      <td>03-06-20</td>\n",
              "      <td>Friday</td>\n",
              "      <td>18</td>\n",
              "      <td>15</td>\n",
              "      <td>8</td>\n",
              "      <td>10</td>\n",
              "      <td>0</td>\n",
              "      <td>0</td>\n",
              "      <td>3</td>\n",
              "      <td>0</td>\n",
              "      <td>8</td>\n",
              "      <td>7</td>\n",
              "      <td>0</td>\n",
              "    </tr>\n",
              "  </tbody>\n",
              "</table>\n",
              "</div>"
            ],
            "text/plain": [
              "         Date  ... People Not-Positive - Gender Unknown\n",
              "0    03-01-20  ...                                    0\n",
              "1    05-02-20  ...                                   31\n",
              "2  05/14/2020  ...                                  248\n",
              "3    03-05-20  ...                                    0\n",
              "4    03-06-20  ...                                    0\n",
              "\n",
              "[5 rows x 13 columns]"
            ]
          },
          "metadata": {},
          "execution_count": 11
        }
      ]
    },
    {
      "cell_type": "code",
      "metadata": {
        "colab": {
          "base_uri": "https://localhost:8080/",
          "height": 419
        },
        "id": "P0tgjzaJX8Uk",
        "outputId": "e3e716b8-a633-49f8-b0ee-bc60bb1505e5"
      },
      "source": [
        "ppl_tested= df1[['Date','People Tested - Female',\t'People Tested - Male',\t'People Tested - Gender Unknown']]\n",
        "display(ppl_tested)"
      ],
      "execution_count": null,
      "outputs": [
        {
          "output_type": "display_data",
          "data": {
            "text/html": [
              "<div>\n",
              "<style scoped>\n",
              "    .dataframe tbody tr th:only-of-type {\n",
              "        vertical-align: middle;\n",
              "    }\n",
              "\n",
              "    .dataframe tbody tr th {\n",
              "        vertical-align: top;\n",
              "    }\n",
              "\n",
              "    .dataframe thead th {\n",
              "        text-align: right;\n",
              "    }\n",
              "</style>\n",
              "<table border=\"1\" class=\"dataframe\">\n",
              "  <thead>\n",
              "    <tr style=\"text-align: right;\">\n",
              "      <th></th>\n",
              "      <th>Date</th>\n",
              "      <th>People Tested - Female</th>\n",
              "      <th>People Tested - Male</th>\n",
              "      <th>People Tested - Gender Unknown</th>\n",
              "    </tr>\n",
              "  </thead>\n",
              "  <tbody>\n",
              "    <tr>\n",
              "      <th>0</th>\n",
              "      <td>03-01-20</td>\n",
              "      <td>0</td>\n",
              "      <td>1</td>\n",
              "      <td>0</td>\n",
              "    </tr>\n",
              "    <tr>\n",
              "      <th>1</th>\n",
              "      <td>05-02-20</td>\n",
              "      <td>1238</td>\n",
              "      <td>1158</td>\n",
              "      <td>35</td>\n",
              "    </tr>\n",
              "    <tr>\n",
              "      <th>2</th>\n",
              "      <td>05/14/2020</td>\n",
              "      <td>2049</td>\n",
              "      <td>1786</td>\n",
              "      <td>263</td>\n",
              "    </tr>\n",
              "    <tr>\n",
              "      <th>3</th>\n",
              "      <td>03-05-20</td>\n",
              "      <td>8</td>\n",
              "      <td>9</td>\n",
              "      <td>0</td>\n",
              "    </tr>\n",
              "    <tr>\n",
              "      <th>4</th>\n",
              "      <td>03-06-20</td>\n",
              "      <td>8</td>\n",
              "      <td>10</td>\n",
              "      <td>0</td>\n",
              "    </tr>\n",
              "    <tr>\n",
              "      <th>...</th>\n",
              "      <td>...</td>\n",
              "      <td>...</td>\n",
              "      <td>...</td>\n",
              "      <td>...</td>\n",
              "    </tr>\n",
              "    <tr>\n",
              "      <th>84</th>\n",
              "      <td>04/26/2020</td>\n",
              "      <td>839</td>\n",
              "      <td>709</td>\n",
              "      <td>8</td>\n",
              "    </tr>\n",
              "    <tr>\n",
              "      <th>85</th>\n",
              "      <td>03/17/2020</td>\n",
              "      <td>288</td>\n",
              "      <td>256</td>\n",
              "      <td>15</td>\n",
              "    </tr>\n",
              "    <tr>\n",
              "      <th>86</th>\n",
              "      <td>05-05-20</td>\n",
              "      <td>2198</td>\n",
              "      <td>2063</td>\n",
              "      <td>198</td>\n",
              "    </tr>\n",
              "    <tr>\n",
              "      <th>87</th>\n",
              "      <td>04-06-20</td>\n",
              "      <td>920</td>\n",
              "      <td>757</td>\n",
              "      <td>18</td>\n",
              "    </tr>\n",
              "    <tr>\n",
              "      <th>88</th>\n",
              "      <td>03/29/2020</td>\n",
              "      <td>381</td>\n",
              "      <td>397</td>\n",
              "      <td>1</td>\n",
              "    </tr>\n",
              "  </tbody>\n",
              "</table>\n",
              "<p>89 rows × 4 columns</p>\n",
              "</div>"
            ],
            "text/plain": [
              "          Date  ... People Tested - Gender Unknown\n",
              "0     03-01-20  ...                              0\n",
              "1     05-02-20  ...                             35\n",
              "2   05/14/2020  ...                            263\n",
              "3     03-05-20  ...                              0\n",
              "4     03-06-20  ...                              0\n",
              "..         ...  ...                            ...\n",
              "84  04/26/2020  ...                              8\n",
              "85  03/17/2020  ...                             15\n",
              "86    05-05-20  ...                            198\n",
              "87    04-06-20  ...                             18\n",
              "88  03/29/2020  ...                              1\n",
              "\n",
              "[89 rows x 4 columns]"
            ]
          },
          "metadata": {}
        }
      ]
    },
    {
      "cell_type": "code",
      "metadata": {
        "colab": {
          "base_uri": "https://localhost:8080/"
        },
        "id": "SHGt-0HVr-Hp",
        "outputId": "009cf5e7-b23e-4a3c-e3eb-b141c29c28bc"
      },
      "source": [
        "ppl_tested['People Tested - Female'].astype('int')\n",
        "ppl_tested['People Tested - Female'] = ppl_tested['People Tested - Female'].astype('int')\n",
        "ppl_tested.dtypes"
      ],
      "execution_count": null,
      "outputs": [
        {
          "output_type": "stream",
          "name": "stderr",
          "text": [
            "/usr/local/lib/python3.7/dist-packages/ipykernel_launcher.py:2: SettingWithCopyWarning: \n",
            "A value is trying to be set on a copy of a slice from a DataFrame.\n",
            "Try using .loc[row_indexer,col_indexer] = value instead\n",
            "\n",
            "See the caveats in the documentation: https://pandas.pydata.org/pandas-docs/stable/user_guide/indexing.html#returning-a-view-versus-a-copy\n",
            "  \n"
          ]
        },
        {
          "output_type": "execute_result",
          "data": {
            "text/plain": [
              "Date                              object\n",
              "People Tested - Female             int64\n",
              "People Tested - Male              object\n",
              "People Tested - Gender Unknown     int64\n",
              "dtype: object"
            ]
          },
          "metadata": {},
          "execution_count": 26
        }
      ]
    },
    {
      "cell_type": "code",
      "metadata": {
        "colab": {
          "base_uri": "https://localhost:8080/"
        },
        "id": "F9Hy2Zd0sBSr",
        "outputId": "7e8ae532-4e8f-4452-c03d-2c188e38b63f"
      },
      "source": [
        "ppl_tested['People Tested - Male'].astype('int')\n",
        "ppl_tested['People Tested - Male'] = ppl_tested['People Tested - Male'].astype('int')\n",
        "ppl_tested.dtypes"
      ],
      "execution_count": null,
      "outputs": [
        {
          "output_type": "stream",
          "name": "stderr",
          "text": [
            "/usr/local/lib/python3.7/dist-packages/ipykernel_launcher.py:2: SettingWithCopyWarning: \n",
            "A value is trying to be set on a copy of a slice from a DataFrame.\n",
            "Try using .loc[row_indexer,col_indexer] = value instead\n",
            "\n",
            "See the caveats in the documentation: https://pandas.pydata.org/pandas-docs/stable/user_guide/indexing.html#returning-a-view-versus-a-copy\n",
            "  \n"
          ]
        },
        {
          "output_type": "execute_result",
          "data": {
            "text/plain": [
              "Date                              object\n",
              "People Tested - Female             int64\n",
              "People Tested - Male               int64\n",
              "People Tested - Gender Unknown     int64\n",
              "dtype: object"
            ]
          },
          "metadata": {},
          "execution_count": 27
        }
      ]
    },
    {
      "cell_type": "code",
      "metadata": {
        "colab": {
          "base_uri": "https://localhost:8080/",
          "height": 285
        },
        "id": "nuuYFWq6rfAS",
        "outputId": "491acdd4-a5ad-44fc-83ce-ad66a85989d7"
      },
      "source": [
        "ppl_tested.plot(kind='bar')"
      ],
      "execution_count": null,
      "outputs": [
        {
          "output_type": "execute_result",
          "data": {
            "text/plain": [
              "<matplotlib.axes._subplots.AxesSubplot at 0x7f53713a3190>"
            ]
          },
          "metadata": {},
          "execution_count": 28
        },
        {
          "output_type": "display_data",
          "data": {
            "image/png": "[encoded data removed]",
            "text/plain": [
              "<Figure size 432x288 with 1 Axes>"
            ]
          },
          "metadata": {
            "needs_background": "light"
          }
        }
      ]
    },
    {
      "cell_type": "code",
      "metadata": {
        "colab": {
          "base_uri": "https://localhost:8080/",
          "height": 419
        },
        "id": "80olgmMwnDsX",
        "outputId": "bc0185f3-a681-453d-fc5f-4f34dff646b9"
      },
      "source": [
        "tested_positive= df1[['Date','People Positive - Female', 'People Positive - Male', 'People Positive - Gender Unknown']]\n",
        "display(tested_positive)"
      ],
      "execution_count": null,
      "outputs": [
        {
          "output_type": "display_data",
          "data": {
            "text/html": [
              "<div>\n",
              "<style scoped>\n",
              "    .dataframe tbody tr th:only-of-type {\n",
              "        vertical-align: middle;\n",
              "    }\n",
              "\n",
              "    .dataframe tbody tr th {\n",
              "        vertical-align: top;\n",
              "    }\n",
              "\n",
              "    .dataframe thead th {\n",
              "        text-align: right;\n",
              "    }\n",
              "</style>\n",
              "<table border=\"1\" class=\"dataframe\">\n",
              "  <thead>\n",
              "    <tr style=\"text-align: right;\">\n",
              "      <th></th>\n",
              "      <th>Date</th>\n",
              "      <th>People Positive - Female</th>\n",
              "      <th>People Positive - Male</th>\n",
              "      <th>People Positive - Gender Unknown</th>\n",
              "    </tr>\n",
              "  </thead>\n",
              "  <tbody>\n",
              "    <tr>\n",
              "      <th>0</th>\n",
              "      <td>03-01-20</td>\n",
              "      <td>0</td>\n",
              "      <td>0</td>\n",
              "      <td>0</td>\n",
              "    </tr>\n",
              "    <tr>\n",
              "      <th>1</th>\n",
              "      <td>05-02-20</td>\n",
              "      <td>340</td>\n",
              "      <td>361</td>\n",
              "      <td>4</td>\n",
              "    </tr>\n",
              "    <tr>\n",
              "      <th>2</th>\n",
              "      <td>05/14/2020</td>\n",
              "      <td>395</td>\n",
              "      <td>362</td>\n",
              "      <td>15</td>\n",
              "    </tr>\n",
              "    <tr>\n",
              "      <th>3</th>\n",
              "      <td>03-05-20</td>\n",
              "      <td>1</td>\n",
              "      <td>0</td>\n",
              "      <td>0</td>\n",
              "    </tr>\n",
              "    <tr>\n",
              "      <th>4</th>\n",
              "      <td>03-06-20</td>\n",
              "      <td>0</td>\n",
              "      <td>3</td>\n",
              "      <td>0</td>\n",
              "    </tr>\n",
              "    <tr>\n",
              "      <th>...</th>\n",
              "      <td>...</td>\n",
              "      <td>...</td>\n",
              "      <td>...</td>\n",
              "      <td>...</td>\n",
              "    </tr>\n",
              "    <tr>\n",
              "      <th>84</th>\n",
              "      <td>04/26/2020</td>\n",
              "      <td>221</td>\n",
              "      <td>201</td>\n",
              "      <td>3</td>\n",
              "    </tr>\n",
              "    <tr>\n",
              "      <th>85</th>\n",
              "      <td>03/17/2020</td>\n",
              "      <td>36</td>\n",
              "      <td>58</td>\n",
              "      <td>2</td>\n",
              "    </tr>\n",
              "    <tr>\n",
              "      <th>86</th>\n",
              "      <td>05-05-20</td>\n",
              "      <td>542</td>\n",
              "      <td>492</td>\n",
              "      <td>44</td>\n",
              "    </tr>\n",
              "    <tr>\n",
              "      <th>87</th>\n",
              "      <td>04-06-20</td>\n",
              "      <td>296</td>\n",
              "      <td>270</td>\n",
              "      <td>14</td>\n",
              "    </tr>\n",
              "    <tr>\n",
              "      <th>88</th>\n",
              "      <td>03/29/2020</td>\n",
              "      <td>128</td>\n",
              "      <td>154</td>\n",
              "      <td>0</td>\n",
              "    </tr>\n",
              "  </tbody>\n",
              "</table>\n",
              "<p>89 rows × 4 columns</p>\n",
              "</div>"
            ],
            "text/plain": [
              "          Date  ...  People Positive - Gender Unknown\n",
              "0     03-01-20  ...                                 0\n",
              "1     05-02-20  ...                                 4\n",
              "2   05/14/2020  ...                                15\n",
              "3     03-05-20  ...                                 0\n",
              "4     03-06-20  ...                                 0\n",
              "..         ...  ...                               ...\n",
              "84  04/26/2020  ...                                 3\n",
              "85  03/17/2020  ...                                 2\n",
              "86    05-05-20  ...                                44\n",
              "87    04-06-20  ...                                14\n",
              "88  03/29/2020  ...                                 0\n",
              "\n",
              "[89 rows x 4 columns]"
            ]
          },
          "metadata": {}
        }
      ]
    },
    {
      "cell_type": "code",
      "metadata": {
        "colab": {
          "base_uri": "https://localhost:8080/",
          "height": 285
        },
        "id": "_7tS1kpeoUU3",
        "outputId": "a515a736-666c-4eb2-c21c-79a6d5437fc9"
      },
      "source": [
        "tested_positive.plot(kind='bar')"
      ],
      "execution_count": null,
      "outputs": [
        {
          "output_type": "execute_result",
          "data": {
            "text/plain": [
              "<matplotlib.axes._subplots.AxesSubplot at 0x7f5370999210>"
            ]
          },
          "metadata": {},
          "execution_count": 31
        },
        {
          "output_type": "display_data",
          "data": {
            "image/png": "[encoded data removed]",
            "text/plain": [
              "<Figure size 432x288 with 1 Axes>"
            ]
          },
          "metadata": {
            "needs_background": "light"
          }
        }
      ]
    },
    {
      "cell_type": "code",
      "metadata": {
        "colab": {
          "base_uri": "https://localhost:8080/",
          "height": 419
        },
        "id": "xdnXfL1KnhSE",
        "outputId": "0ba0658e-fb4f-43ef-909a-cd4ce0a6aca0"
      },
      "source": [
        "tested_negative= df1[['Date', 'People Not-Positive - Female',\t'People Not-Positive - Male',\t'People Not-Positive - Gender Unknown']]\n",
        "display (tested_negative)"
      ],
      "execution_count": null,
      "outputs": [
        {
          "output_type": "display_data",
          "data": {
            "text/html": [
              "<div>\n",
              "<style scoped>\n",
              "    .dataframe tbody tr th:only-of-type {\n",
              "        vertical-align: middle;\n",
              "    }\n",
              "\n",
              "    .dataframe tbody tr th {\n",
              "        vertical-align: top;\n",
              "    }\n",
              "\n",
              "    .dataframe thead th {\n",
              "        text-align: right;\n",
              "    }\n",
              "</style>\n",
              "<table border=\"1\" class=\"dataframe\">\n",
              "  <thead>\n",
              "    <tr style=\"text-align: right;\">\n",
              "      <th></th>\n",
              "      <th>Date</th>\n",
              "      <th>People Not-Positive - Female</th>\n",
              "      <th>People Not-Positive - Male</th>\n",
              "      <th>People Not-Positive - Gender Unknown</th>\n",
              "    </tr>\n",
              "  </thead>\n",
              "  <tbody>\n",
              "    <tr>\n",
              "      <th>0</th>\n",
              "      <td>03-01-20</td>\n",
              "      <td>0</td>\n",
              "      <td>1</td>\n",
              "      <td>0</td>\n",
              "    </tr>\n",
              "    <tr>\n",
              "      <th>1</th>\n",
              "      <td>05-02-20</td>\n",
              "      <td>898</td>\n",
              "      <td>797</td>\n",
              "      <td>31</td>\n",
              "    </tr>\n",
              "    <tr>\n",
              "      <th>2</th>\n",
              "      <td>05/14/2020</td>\n",
              "      <td>1654</td>\n",
              "      <td>1424</td>\n",
              "      <td>248</td>\n",
              "    </tr>\n",
              "    <tr>\n",
              "      <th>3</th>\n",
              "      <td>03-05-20</td>\n",
              "      <td>7</td>\n",
              "      <td>9</td>\n",
              "      <td>0</td>\n",
              "    </tr>\n",
              "    <tr>\n",
              "      <th>4</th>\n",
              "      <td>03-06-20</td>\n",
              "      <td>8</td>\n",
              "      <td>7</td>\n",
              "      <td>0</td>\n",
              "    </tr>\n",
              "    <tr>\n",
              "      <th>...</th>\n",
              "      <td>...</td>\n",
              "      <td>...</td>\n",
              "      <td>...</td>\n",
              "      <td>...</td>\n",
              "    </tr>\n",
              "    <tr>\n",
              "      <th>84</th>\n",
              "      <td>04/26/2020</td>\n",
              "      <td>618</td>\n",
              "      <td>508</td>\n",
              "      <td>5</td>\n",
              "    </tr>\n",
              "    <tr>\n",
              "      <th>85</th>\n",
              "      <td>03/17/2020</td>\n",
              "      <td>252</td>\n",
              "      <td>198</td>\n",
              "      <td>13</td>\n",
              "    </tr>\n",
              "    <tr>\n",
              "      <th>86</th>\n",
              "      <td>05-05-20</td>\n",
              "      <td>1656</td>\n",
              "      <td>1571</td>\n",
              "      <td>154</td>\n",
              "    </tr>\n",
              "    <tr>\n",
              "      <th>87</th>\n",
              "      <td>04-06-20</td>\n",
              "      <td>624</td>\n",
              "      <td>487</td>\n",
              "      <td>4</td>\n",
              "    </tr>\n",
              "    <tr>\n",
              "      <th>88</th>\n",
              "      <td>03/29/2020</td>\n",
              "      <td>253</td>\n",
              "      <td>243</td>\n",
              "      <td>1</td>\n",
              "    </tr>\n",
              "  </tbody>\n",
              "</table>\n",
              "<p>89 rows × 4 columns</p>\n",
              "</div>"
            ],
            "text/plain": [
              "          Date  ... People Not-Positive - Gender Unknown\n",
              "0     03-01-20  ...                                    0\n",
              "1     05-02-20  ...                                   31\n",
              "2   05/14/2020  ...                                  248\n",
              "3     03-05-20  ...                                    0\n",
              "4     03-06-20  ...                                    0\n",
              "..         ...  ...                                  ...\n",
              "84  04/26/2020  ...                                    5\n",
              "85  03/17/2020  ...                                   13\n",
              "86    05-05-20  ...                                  154\n",
              "87    04-06-20  ...                                    4\n",
              "88  03/29/2020  ...                                    1\n",
              "\n",
              "[89 rows x 4 columns]"
            ]
          },
          "metadata": {}
        }
      ]
    },
    {
      "cell_type": "code",
      "metadata": {
        "colab": {
          "base_uri": "https://localhost:8080/"
        },
        "id": "-LhR71_0sYnD",
        "outputId": "cee3f1be-4bce-4626-b339-f2326e8202af"
      },
      "source": [
        "tested_negative['People Not-Positive - Female'].astype('int')\n",
        "tested_negative['People Not-Positive - Female'] = tested_negative['People Not-Positive - Female'].astype('int')\n",
        "tested_negative.dtypes"
      ],
      "execution_count": null,
      "outputs": [
        {
          "output_type": "stream",
          "name": "stderr",
          "text": [
            "/usr/local/lib/python3.7/dist-packages/ipykernel_launcher.py:2: SettingWithCopyWarning: \n",
            "A value is trying to be set on a copy of a slice from a DataFrame.\n",
            "Try using .loc[row_indexer,col_indexer] = value instead\n",
            "\n",
            "See the caveats in the documentation: https://pandas.pydata.org/pandas-docs/stable/user_guide/indexing.html#returning-a-view-versus-a-copy\n",
            "  \n"
          ]
        },
        {
          "output_type": "execute_result",
          "data": {
            "text/plain": [
              "Date                                    object\n",
              "People Not-Positive - Female             int64\n",
              "People Not-Positive - Male              object\n",
              "People Not-Positive - Gender Unknown     int64\n",
              "dtype: object"
            ]
          },
          "metadata": {},
          "execution_count": 34
        }
      ]
    },
    {
      "cell_type": "code",
      "metadata": {
        "colab": {
          "base_uri": "https://localhost:8080/"
        },
        "id": "8SmYGMp7s7NV",
        "outputId": "cc8d083c-e20c-4e23-b871-23ce47b9dc37"
      },
      "source": [
        "tested_negative['People Not-Positive - Male'].astype('int')\n",
        "tested_negative['People Not-Positive - Male'] = tested_negative['People Not-Positive - Male'].astype('int')\n",
        "tested_negative.dtypes"
      ],
      "execution_count": null,
      "outputs": [
        {
          "output_type": "stream",
          "name": "stderr",
          "text": [
            "/usr/local/lib/python3.7/dist-packages/ipykernel_launcher.py:2: SettingWithCopyWarning: \n",
            "A value is trying to be set on a copy of a slice from a DataFrame.\n",
            "Try using .loc[row_indexer,col_indexer] = value instead\n",
            "\n",
            "See the caveats in the documentation: https://pandas.pydata.org/pandas-docs/stable/user_guide/indexing.html#returning-a-view-versus-a-copy\n",
            "  \n"
          ]
        },
        {
          "output_type": "execute_result",
          "data": {
            "text/plain": [
              "Date                                    object\n",
              "People Not-Positive - Female             int64\n",
              "People Not-Positive - Male               int64\n",
              "People Not-Positive - Gender Unknown     int64\n",
              "dtype: object"
            ]
          },
          "metadata": {},
          "execution_count": 35
        }
      ]
    },
    {
      "cell_type": "code",
      "metadata": {
        "colab": {
          "base_uri": "https://localhost:8080/",
          "height": 285
        },
        "id": "52QLZTPqrUv5",
        "outputId": "84becb9f-5f2c-45ac-f43a-feab03b9e603"
      },
      "source": [
        "tested_negative.plot(kind='bar')"
      ],
      "execution_count": null,
      "outputs": [
        {
          "output_type": "execute_result",
          "data": {
            "text/plain": [
              "<matplotlib.axes._subplots.AxesSubplot at 0x7f537046dc10>"
            ]
          },
          "metadata": {},
          "execution_count": 36
        },
        {
          "output_type": "display_data",
          "data": {
            "image/png": "[encoded data removed]",
            "text/plain": [
              "<Figure size 432x288 with 1 Axes>"
            ]
          },
          "metadata": {
            "needs_background": "light"
          }
        }
      ]
    },
    {
      "cell_type": "markdown",
      "metadata": {
        "id": "rphy8_qAu4Tb"
      },
      "source": [
        "Linear Regresion Model "
      ]
    },
    {
      "cell_type": "code",
      "metadata": {
        "colab": {
          "base_uri": "https://localhost:8080/",
          "height": 204
        },
        "id": "vHM3Cus9uiGq",
        "outputId": "c1d7e674-0c9a-4d7b-e505-925da660f9d3"
      },
      "source": [
        "x= ppl_tested[['People Tested - Female',\t'People Tested - Male',\t'People Tested - Gender Unknown']]\n",
        "x.head()"
      ],
      "execution_count": null,
      "outputs": [
        {
          "output_type": "execute_result",
          "data": {
            "text/html": [
              "<div>\n",
              "<style scoped>\n",
              "    .dataframe tbody tr th:only-of-type {\n",
              "        vertical-align: middle;\n",
              "    }\n",
              "\n",
              "    .dataframe tbody tr th {\n",
              "        vertical-align: top;\n",
              "    }\n",
              "\n",
              "    .dataframe thead th {\n",
              "        text-align: right;\n",
              "    }\n",
              "</style>\n",
              "<table border=\"1\" class=\"dataframe\">\n",
              "  <thead>\n",
              "    <tr style=\"text-align: right;\">\n",
              "      <th></th>\n",
              "      <th>People Tested - Female</th>\n",
              "      <th>People Tested - Male</th>\n",
              "      <th>People Tested - Gender Unknown</th>\n",
              "    </tr>\n",
              "  </thead>\n",
              "  <tbody>\n",
              "    <tr>\n",
              "      <th>0</th>\n",
              "      <td>0</td>\n",
              "      <td>1</td>\n",
              "      <td>0</td>\n",
              "    </tr>\n",
              "    <tr>\n",
              "      <th>1</th>\n",
              "      <td>1238</td>\n",
              "      <td>1158</td>\n",
              "      <td>35</td>\n",
              "    </tr>\n",
              "    <tr>\n",
              "      <th>2</th>\n",
              "      <td>2049</td>\n",
              "      <td>1786</td>\n",
              "      <td>263</td>\n",
              "    </tr>\n",
              "    <tr>\n",
              "      <th>3</th>\n",
              "      <td>8</td>\n",
              "      <td>9</td>\n",
              "      <td>0</td>\n",
              "    </tr>\n",
              "    <tr>\n",
              "      <th>4</th>\n",
              "      <td>8</td>\n",
              "      <td>10</td>\n",
              "      <td>0</td>\n",
              "    </tr>\n",
              "  </tbody>\n",
              "</table>\n",
              "</div>"
            ],
            "text/plain": [
              "   People Tested - Female  People Tested - Male  People Tested - Gender Unknown\n",
              "0                       0                     1                               0\n",
              "1                    1238                  1158                              35\n",
              "2                    2049                  1786                             263\n",
              "3                       8                     9                               0\n",
              "4                       8                    10                               0"
            ]
          },
          "metadata": {},
          "execution_count": 55
        }
      ]
    },
    {
      "cell_type": "code",
      "metadata": {
        "colab": {
          "base_uri": "https://localhost:8080/",
          "height": 204
        },
        "id": "8QoEZw7OvxWh",
        "outputId": "a1420641-fde7-4716-803d-0a223f759d58"
      },
      "source": [
        "y= tested_positive[['People Positive - Female',\t'People Positive - Male',\t'People Positive - Gender Unknown']]\n",
        "y.head()"
      ],
      "execution_count": null,
      "outputs": [
        {
          "output_type": "execute_result",
          "data": {
            "text/html": [
              "<div>\n",
              "<style scoped>\n",
              "    .dataframe tbody tr th:only-of-type {\n",
              "        vertical-align: middle;\n",
              "    }\n",
              "\n",
              "    .dataframe tbody tr th {\n",
              "        vertical-align: top;\n",
              "    }\n",
              "\n",
              "    .dataframe thead th {\n",
              "        text-align: right;\n",
              "    }\n",
              "</style>\n",
              "<table border=\"1\" class=\"dataframe\">\n",
              "  <thead>\n",
              "    <tr style=\"text-align: right;\">\n",
              "      <th></th>\n",
              "      <th>People Positive - Female</th>\n",
              "      <th>People Positive - Male</th>\n",
              "      <th>People Positive - Gender Unknown</th>\n",
              "    </tr>\n",
              "  </thead>\n",
              "  <tbody>\n",
              "    <tr>\n",
              "      <th>0</th>\n",
              "      <td>0</td>\n",
              "      <td>0</td>\n",
              "      <td>0</td>\n",
              "    </tr>\n",
              "    <tr>\n",
              "      <th>1</th>\n",
              "      <td>340</td>\n",
              "      <td>361</td>\n",
              "      <td>4</td>\n",
              "    </tr>\n",
              "    <tr>\n",
              "      <th>2</th>\n",
              "      <td>395</td>\n",
              "      <td>362</td>\n",
              "      <td>15</td>\n",
              "    </tr>\n",
              "    <tr>\n",
              "      <th>3</th>\n",
              "      <td>1</td>\n",
              "      <td>0</td>\n",
              "      <td>0</td>\n",
              "    </tr>\n",
              "    <tr>\n",
              "      <th>4</th>\n",
              "      <td>0</td>\n",
              "      <td>3</td>\n",
              "      <td>0</td>\n",
              "    </tr>\n",
              "  </tbody>\n",
              "</table>\n",
              "</div>"
            ],
            "text/plain": [
              "   People Positive - Female  ...  People Positive - Gender Unknown\n",
              "0                         0  ...                                 0\n",
              "1                       340  ...                                 4\n",
              "2                       395  ...                                15\n",
              "3                         1  ...                                 0\n",
              "4                         0  ...                                 0\n",
              "\n",
              "[5 rows x 3 columns]"
            ]
          },
          "metadata": {},
          "execution_count": 56
        }
      ]
    },
    {
      "cell_type": "code",
      "metadata": {
        "colab": {
          "base_uri": "https://localhost:8080/"
        },
        "id": "xGGeugk3wFOz",
        "outputId": "8b8d0ce4-ad60-4f61-d765-a8ab1649fb36"
      },
      "source": [
        "x.shape"
      ],
      "execution_count": null,
      "outputs": [
        {
          "output_type": "execute_result",
          "data": {
            "text/plain": [
              "(89, 3)"
            ]
          },
          "metadata": {},
          "execution_count": 57
        }
      ]
    },
    {
      "cell_type": "code",
      "metadata": {
        "colab": {
          "base_uri": "https://localhost:8080/"
        },
        "id": "Nf09UMV5wHBw",
        "outputId": "a814af66-d937-450e-b76d-a9b2a7176017"
      },
      "source": [
        "y.shape"
      ],
      "execution_count": null,
      "outputs": [
        {
          "output_type": "execute_result",
          "data": {
            "text/plain": [
              "(89, 3)"
            ]
          },
          "metadata": {},
          "execution_count": 58
        }
      ]
    },
    {
      "cell_type": "code",
      "metadata": {
        "id": "cBBhS-Y-wV7k"
      },
      "source": [
        "from sklearn.linear_model import LinearRegression"
      ],
      "execution_count": null,
      "outputs": []
    },
    {
      "cell_type": "code",
      "metadata": {
        "id": "06HMS3dwwgAa"
      },
      "source": [
        "linreg = LinearRegression()"
      ],
      "execution_count": null,
      "outputs": []
    },
    {
      "cell_type": "code",
      "metadata": {
        "id": "TnR4GsV8whc2"
      },
      "source": [
        "from sklearn.model_selection import train_test_split"
      ],
      "execution_count": null,
      "outputs": []
    },
    {
      "cell_type": "code",
      "metadata": {
        "id": "cUxxFKXmwlyT"
      },
      "source": [
        "x_train, x_test, y_train, y_test = train_test_split(x,y)"
      ],
      "execution_count": null,
      "outputs": []
    },
    {
      "cell_type": "code",
      "metadata": {
        "colab": {
          "base_uri": "https://localhost:8080/"
        },
        "id": "ltl9w_PNw1vy",
        "outputId": "8806a224-3d2a-4b6b-9404-0d90ccfe6aca"
      },
      "source": [
        "print(x_train.shape)\n",
        "print(x_test.shape)\n",
        "print(y_train.shape)\n",
        "print(y_test.shape)"
      ],
      "execution_count": null,
      "outputs": [
        {
          "output_type": "stream",
          "name": "stdout",
          "text": [
            "(66, 3)\n",
            "(23, 3)\n",
            "(66, 3)\n",
            "(23, 3)\n"
          ]
        }
      ]
    },
    {
      "cell_type": "code",
      "metadata": {
        "colab": {
          "base_uri": "https://localhost:8080/"
        },
        "id": "8xTk3YGixhmU",
        "outputId": "7d5506bd-7426-44a0-d7f7-4a1dbfd5af32"
      },
      "source": [
        "linreg.fit(x_train,y_train)"
      ],
      "execution_count": null,
      "outputs": [
        {
          "output_type": "execute_result",
          "data": {
            "text/plain": [
              "LinearRegression(copy_X=True, fit_intercept=True, n_jobs=None, normalize=False)"
            ]
          },
          "metadata": {},
          "execution_count": 71
        }
      ]
    },
    {
      "cell_type": "code",
      "metadata": {
        "colab": {
          "base_uri": "https://localhost:8080/"
        },
        "id": "vbCLPU2bzRZa",
        "outputId": "459bd82f-92af-46ba-8c97-f3dc7a587110"
      },
      "source": [
        "print(linreg.intercept_)"
      ],
      "execution_count": null,
      "outputs": [
        {
          "output_type": "stream",
          "name": "stdout",
          "text": [
            "[29.96343895 40.22589838  2.85747022]\n"
          ]
        }
      ]
    },
    {
      "cell_type": "code",
      "metadata": {
        "colab": {
          "base_uri": "https://localhost:8080/"
        },
        "id": "dI55Gb7ZzWxz",
        "outputId": "635ba5f3-b4a4-4c98-bc06-331e57a4ab90"
      },
      "source": [
        "print(linreg.coef_)"
      ],
      "execution_count": null,
      "outputs": [
        {
          "output_type": "stream",
          "name": "stdout",
          "text": [
            "[[-0.07991786  0.33250908 -0.20484708]\n",
            " [-0.27583725  0.55115303 -0.26029326]\n",
            " [-0.01625299  0.01499626  0.1551155 ]]\n"
          ]
        }
      ]
    },
    {
      "cell_type": "code",
      "metadata": {
        "colab": {
          "base_uri": "https://localhost:8080/"
        },
        "id": "IxrL1P7zzYXj",
        "outputId": "c5cf5c4a-c438-4ae7-893f-5de5e1d1ac3d"
      },
      "source": [
        "y_prediction = linreg.predict(x_test)\n",
        "y_prediction"
      ],
      "execution_count": null,
      "outputs": [
        {
          "output_type": "execute_result",
          "data": {
            "text/plain": [
              "array([[4.84401629e+02, 4.83797901e+02, 1.22391507e+01],\n",
              "       [4.24651503e+02, 3.83549256e+02, 2.15545903e+01],\n",
              "       [4.91033124e+02, 4.83095149e+02, 1.87451173e+01],\n",
              "       [5.42286990e+02, 4.74469847e+02, 1.65771681e+01],\n",
              "       [3.47496754e+01, 4.27264847e+01, 2.90874117e+00],\n",
              "       [3.19302811e+02, 3.70934584e+02, 5.76103965e+00],\n",
              "       [4.12287404e+02, 3.96346878e+02, 2.45635765e+01],\n",
              "       [6.32782350e+02, 6.25857559e+02, 3.32124615e+01],\n",
              "       [2.49302435e+02, 2.38779922e+02, 2.75499956e+00],\n",
              "       [2.42540385e+02, 2.43014279e+02, 7.43179858e+00],\n",
              "       [4.03810124e+02, 3.95019565e+02, 1.41311324e+01],\n",
              "       [5.32495758e+01, 6.55699724e+01, 2.89571004e+00],\n",
              "       [4.57383263e+02, 4.47142574e+02, 2.87329183e+01],\n",
              "       [2.33911214e+02, 2.48000743e+02, 2.92205994e+00],\n",
              "       [2.97493607e+01, 3.82939947e+01, 2.70867985e+00],\n",
              "       [3.19541258e+02, 3.18660929e+02, 3.01344098e+00],\n",
              "       [2.35049972e+02, 2.60705930e+02, 9.75019940e+00],\n",
              "       [2.40312411e+02, 2.56524681e+02, 2.86932035e+00],\n",
              "       [1.06122553e+02, 1.24272627e+02, 6.18927397e+00],\n",
              "       [5.53529955e+02, 5.30261360e+02, 2.38242426e+01],\n",
              "       [1.59829311e+02, 1.48280938e+02, 4.44926739e+00],\n",
              "       [1.73798586e+02, 1.90099610e+02, 2.79184037e+00],\n",
              "       [1.66021912e+02, 1.65200187e+02, 5.94796789e-01]])"
            ]
          },
          "metadata": {},
          "execution_count": 75
        }
      ]
    },
    {
      "cell_type": "code",
      "metadata": {
        "colab": {
          "base_uri": "https://localhost:8080/"
        },
        "id": "ULVH3_Ug0HJf",
        "outputId": "b8a98529-397c-4458-af9d-34123846a05f"
      },
      "source": [
        "print('Actual Values', y_test.values[0:10])"
      ],
      "execution_count": null,
      "outputs": [
        {
          "output_type": "stream",
          "name": "stdout",
          "text": [
            "Actual Values [[444 419   7]\n",
            " [604 514  31]\n",
            " [608 616  27]\n",
            " [545 430  11]\n",
            " [  3   2   0]\n",
            " [149 131   0]\n",
            " [478 445  11]\n",
            " [381 345   8]\n",
            " [292 319   3]\n",
            " [158 168   2]]\n"
          ]
        }
      ]
    },
    {
      "cell_type": "code",
      "metadata": {
        "colab": {
          "base_uri": "https://localhost:8080/"
        },
        "id": "j0BVdUpW0ZYy",
        "outputId": "96d87e32-b0cb-4359-cf6a-b27f35899ef1"
      },
      "source": [
        "print('Predicted Value', y_prediction[0:10])"
      ],
      "execution_count": null,
      "outputs": [
        {
          "output_type": "stream",
          "name": "stdout",
          "text": [
            "Predicted Value [[484.40162851 483.79790068  12.23915071]\n",
            " [424.6515026  383.54925572  21.55459032]\n",
            " [491.03312402 483.09514868  18.74511726]\n",
            " [542.28698953 474.46984671  16.57716807]\n",
            " [ 34.74967542  42.72648474   2.90874117]\n",
            " [319.30281128 370.93458437   5.76103965]\n",
            " [412.28740386 396.34687816  24.56357649]\n",
            " [632.78235041 625.85755927  33.21246147]\n",
            " [249.30243515 238.77992245   2.75499956]\n",
            " [242.54038518 243.01427854   7.43179858]]\n"
          ]
        }
      ]
    },
    {
      "cell_type": "code",
      "metadata": {
        "id": "D8vt-GRf0kg2"
      },
      "source": [
        "from sklearn import metrics"
      ],
      "execution_count": null,
      "outputs": []
    },
    {
      "cell_type": "code",
      "metadata": {
        "id": "rldleg6p06TK"
      },
      "source": [
        "mse = metrics.mean_squared_error(y_test,y_prediction)"
      ],
      "execution_count": null,
      "outputs": []
    },
    {
      "cell_type": "code",
      "metadata": {
        "colab": {
          "base_uri": "https://localhost:8080/"
        },
        "id": "9bsYzEiN1fIg",
        "outputId": "7659a50c-a77d-433e-8c96-dab7172f9e3c"
      },
      "source": [
        "mse"
      ],
      "execution_count": null,
      "outputs": [
        {
          "output_type": "execute_result",
          "data": {
            "text/plain": [
              "8214.520849892664"
            ]
          },
          "metadata": {},
          "execution_count": 84
        }
      ]
    },
    {
      "cell_type": "code",
      "metadata": {
        "colab": {
          "base_uri": "https://localhost:8080/"
        },
        "id": "tCOWmuWw1j-q",
        "outputId": "17af115e-3867-45ad-9daa-3277eaa9b283"
      },
      "source": [
        "np.sqrt(mse)"
      ],
      "execution_count": null,
      "outputs": [
        {
          "output_type": "execute_result",
          "data": {
            "text/plain": [
              "90.63399389794463"
            ]
          },
          "metadata": {},
          "execution_count": 85
        }
      ]
    },
    {
      "cell_type": "code",
      "metadata": {
        "colab": {
          "base_uri": "https://localhost:8080/",
          "height": 34
        },
        "id": "23qFkNT41pGg",
        "outputId": "66e17200-8ef4-4c47-9999-cecb84f20183"
      },
      "source": [
        "r2 = metrics.r2_score(y_test,y_prediction)\n",
        "display(r2)"
      ],
      "execution_count": null,
      "outputs": [
        {
          "output_type": "display_data",
          "data": {
            "text/plain": [
              "0.35295546767740854"
            ]
          },
          "metadata": {}
        }
      ]
    },
    {
      "cell_type": "code",
      "metadata": {
        "colab": {
          "base_uri": "https://localhost:8080/",
          "height": 359
        },
        "id": "HeruDjdq10Yc",
        "outputId": "8d6e91dc-d5ec-4925-c46a-0eb2f9db3058"
      },
      "source": [
        "y_test.head(10)"
      ],
      "execution_count": null,
      "outputs": [
        {
          "output_type": "execute_result",
          "data": {
            "text/html": [
              "<div>\n",
              "<style scoped>\n",
              "    .dataframe tbody tr th:only-of-type {\n",
              "        vertical-align: middle;\n",
              "    }\n",
              "\n",
              "    .dataframe tbody tr th {\n",
              "        vertical-align: top;\n",
              "    }\n",
              "\n",
              "    .dataframe thead th {\n",
              "        text-align: right;\n",
              "    }\n",
              "</style>\n",
              "<table border=\"1\" class=\"dataframe\">\n",
              "  <thead>\n",
              "    <tr style=\"text-align: right;\">\n",
              "      <th></th>\n",
              "      <th>People Positive - Female</th>\n",
              "      <th>People Positive - Male</th>\n",
              "      <th>People Positive - Gender Unknown</th>\n",
              "    </tr>\n",
              "  </thead>\n",
              "  <tbody>\n",
              "    <tr>\n",
              "      <th>7</th>\n",
              "      <td>444</td>\n",
              "      <td>419</td>\n",
              "      <td>7</td>\n",
              "    </tr>\n",
              "    <tr>\n",
              "      <th>18</th>\n",
              "      <td>604</td>\n",
              "      <td>514</td>\n",
              "      <td>31</td>\n",
              "    </tr>\n",
              "    <tr>\n",
              "      <th>11</th>\n",
              "      <td>608</td>\n",
              "      <td>616</td>\n",
              "      <td>27</td>\n",
              "    </tr>\n",
              "    <tr>\n",
              "      <th>50</th>\n",
              "      <td>545</td>\n",
              "      <td>430</td>\n",
              "      <td>11</td>\n",
              "    </tr>\n",
              "    <tr>\n",
              "      <th>22</th>\n",
              "      <td>3</td>\n",
              "      <td>2</td>\n",
              "      <td>0</td>\n",
              "    </tr>\n",
              "    <tr>\n",
              "      <th>14</th>\n",
              "      <td>149</td>\n",
              "      <td>131</td>\n",
              "      <td>0</td>\n",
              "    </tr>\n",
              "    <tr>\n",
              "      <th>64</th>\n",
              "      <td>478</td>\n",
              "      <td>445</td>\n",
              "      <td>11</td>\n",
              "    </tr>\n",
              "    <tr>\n",
              "      <th>62</th>\n",
              "      <td>381</td>\n",
              "      <td>345</td>\n",
              "      <td>8</td>\n",
              "    </tr>\n",
              "    <tr>\n",
              "      <th>24</th>\n",
              "      <td>292</td>\n",
              "      <td>319</td>\n",
              "      <td>3</td>\n",
              "    </tr>\n",
              "    <tr>\n",
              "      <th>15</th>\n",
              "      <td>158</td>\n",
              "      <td>168</td>\n",
              "      <td>2</td>\n",
              "    </tr>\n",
              "  </tbody>\n",
              "</table>\n",
              "</div>"
            ],
            "text/plain": [
              "    People Positive - Female  ...  People Positive - Gender Unknown\n",
              "7                        444  ...                                 7\n",
              "18                       604  ...                                31\n",
              "11                       608  ...                                27\n",
              "50                       545  ...                                11\n",
              "22                         3  ...                                 0\n",
              "14                       149  ...                                 0\n",
              "64                       478  ...                                11\n",
              "62                       381  ...                                 8\n",
              "24                       292  ...                                 3\n",
              "15                       158  ...                                 2\n",
              "\n",
              "[10 rows x 3 columns]"
            ]
          },
          "metadata": {},
          "execution_count": 90
        }
      ]
    },
    {
      "cell_type": "code",
      "metadata": {
        "colab": {
          "base_uri": "https://localhost:8080/"
        },
        "id": "xhc0pTCg2EKS",
        "outputId": "9ed411d5-e5ec-4f7b-c58b-f31072f49d78"
      },
      "source": [
        "y_prediction[0:10]"
      ],
      "execution_count": null,
      "outputs": [
        {
          "output_type": "execute_result",
          "data": {
            "text/plain": [
              "array([[484.40162851, 483.79790068,  12.23915071],\n",
              "       [424.6515026 , 383.54925572,  21.55459032],\n",
              "       [491.03312402, 483.09514868,  18.74511726],\n",
              "       [542.28698953, 474.46984671,  16.57716807],\n",
              "       [ 34.74967542,  42.72648474,   2.90874117],\n",
              "       [319.30281128, 370.93458437,   5.76103965],\n",
              "       [412.28740386, 396.34687816,  24.56357649],\n",
              "       [632.78235041, 625.85755927,  33.21246147],\n",
              "       [249.30243515, 238.77992245,   2.75499956],\n",
              "       [242.54038518, 243.01427854,   7.43179858]])"
            ]
          },
          "metadata": {},
          "execution_count": 92
        }
      ]
    },
    {
      "cell_type": "code",
      "metadata": {
        "colab": {
          "base_uri": "https://localhost:8080/",
          "height": 282
        },
        "id": "knxyDjFf2KNl",
        "outputId": "9f8d5dd8-b275-4b06-cad0-e4bbd62fe193"
      },
      "source": [
        "plt.scatter(y_test,y_prediction)"
      ],
      "execution_count": null,
      "outputs": [
        {
          "output_type": "execute_result",
          "data": {
            "text/plain": [
              "<matplotlib.collections.PathCollection at 0x7f5366cefa90>"
            ]
          },
          "metadata": {},
          "execution_count": 94
        },
        {
          "output_type": "display_data",
          "data": {
            "image/png": "[encoded data removed]",
            "text/plain": [
              "<Figure size 432x288 with 1 Axes>"
            ]
          },
          "metadata": {
            "needs_background": "light"
          }
        }
      ]
    }
  ]
}